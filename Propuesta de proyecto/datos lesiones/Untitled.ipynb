{
 "cells": [
  {
   "cell_type": "code",
   "execution_count": null,
   "id": "f957ef7c-70a6-46c3-aac8-bb71a55f09ca",
   "metadata": {},
   "outputs": [],
   "source": []
  }
 ],
 "metadata": {
  "kernelspec": {
   "display_name": "",
   "name": ""
  },
  "language_info": {
   "name": ""
  }
 },
 "nbformat": 4,
 "nbformat_minor": 5
}
